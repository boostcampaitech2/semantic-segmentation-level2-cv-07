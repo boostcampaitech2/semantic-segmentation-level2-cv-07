{
 "cells": [
  {
   "cell_type": "code",
   "execution_count": 1,
   "id": "13b476a5-deb3-4214-8d86-358c47f657c9",
   "metadata": {},
   "outputs": [],
   "source": [
    "import pandas as pd\n",
    "import numpy as np\n",
    "import os"
   ]
  },
  {
   "cell_type": "code",
   "execution_count": 2,
   "id": "2941783a-58a3-4518-8514-4de72dd24a94",
   "metadata": {},
   "outputs": [],
   "source": [
    "base_result = './result/uper_swin_SETR_0.721.csv'\n",
    "implant_result = './result/uper_swin_TTA_0.744.csv'\n",
    "implant_label = '9'\n",
    "work_dir = './result'"
   ]
  },
  {
   "cell_type": "code",
   "execution_count": 3,
   "id": "e649def1-4b84-41bd-a347-513db40ec4e1",
   "metadata": {},
   "outputs": [],
   "source": [
    "base_df = pd.read_csv(base_result)\n",
    "implant_df = pd.read_csv(implant_result)"
   ]
  },
  {
   "cell_type": "code",
   "execution_count": 4,
   "id": "0cc52f65-06a1-4e4b-bb0f-8316d80415f6",
   "metadata": {},
   "outputs": [],
   "source": [
    "count = 0\n",
    "for img_number in range(len(base_df)) :\n",
    "    prediction = ''\n",
    "    base_splited = base_df['PredictionString'][img_number].split()\n",
    "    implant_splited = implant_df['PredictionString'][img_number].split()\n",
    "    for base_pixel, implant_pixel in zip(base_splited, implant_splited) :\n",
    "        if base_pixel == implant_label :\n",
    "            prediction += (implant_pixel + ' ')\n",
    "        else :\n",
    "            prediction += (base_pixel + ' ')\n",
    "    base_df['PredictionString'][img_number] = prediction"
   ]
  },
  {
   "cell_type": "code",
   "execution_count": 5,
   "id": "0988600a-b26c-47db-8126-79c16ff4af39",
   "metadata": {},
   "outputs": [],
   "source": [
    "base_df.to_csv(os.path.join(work_dir, f'implant_{implant_label}.csv'), index=False)"
   ]
  }
 ],
 "metadata": {
  "kernelspec": {
   "display_name": "segmentation",
   "language": "python",
   "name": "segmentation"
  },
  "language_info": {
   "codemirror_mode": {
    "name": "ipython",
    "version": 3
   },
   "file_extension": ".py",
   "mimetype": "text/x-python",
   "name": "python",
   "nbconvert_exporter": "python",
   "pygments_lexer": "ipython3",
   "version": "3.7.11"
  }
 },
 "nbformat": 4,
 "nbformat_minor": 5
}
